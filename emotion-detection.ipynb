{
 "cells": [
  {
   "cell_type": "code",
   "execution_count": 1,
   "metadata": {},
   "outputs": [
    {
     "name": "stdout",
     "output_type": "stream",
     "text": [
      "Warning: Looks like you're using an outdated `kagglehub` version, please consider updating (latest version: 0.3.8)\n",
      "Downloading from https://www.kaggle.com/api/v1/datasets/download/imsparsh/deam-mediaeval-dataset-emotional-analysis-in-music?dataset_version_number=1...\n"
     ]
    },
    {
     "name": "stderr",
     "output_type": "stream",
     "text": [
      "100%|██████████| 1.83G/1.83G [02:17<00:00, 14.3MB/s]"
     ]
    },
    {
     "name": "stdout",
     "output_type": "stream",
     "text": [
      "Extracting model files...\n"
     ]
    },
    {
     "name": "stderr",
     "output_type": "stream",
     "text": [
      "\n"
     ]
    },
    {
     "name": "stdout",
     "output_type": "stream",
     "text": [
      "Path to dataset files: /Users/alexialozano/.cache/kagglehub/datasets/imsparsh/deam-mediaeval-dataset-emotional-analysis-in-music/versions/1\n"
     ]
    }
   ],
   "source": [
    "import kagglehub\n",
    "\n",
    "# Download latest version\n",
    "path = kagglehub.dataset_download(\"imsparsh/deam-mediaeval-dataset-emotional-analysis-in-music\")\n",
    "\n",
    "print(\"Path to dataset files:\", path)"
   ]
  },
  {
   "cell_type": "code",
   "execution_count": null,
   "metadata": {},
   "outputs": [
    {
     "name": "stdout",
     "output_type": "stream",
     "text": [
      "   song_id   valence_mean   valence_std   arousal_mean   arousal_std\n",
      "0        2            3.1          0.94            3.0          0.63\n",
      "1        3            3.5          1.75            3.3          1.62\n",
      "2        4            5.7          1.42            5.5          1.63\n",
      "3        5            4.4          2.01            5.3          1.85\n",
      "4        7            5.8          1.47            6.4          1.69\n"
     ]
    }
   ],
   "source": [
    "import pandas as pd\n",
    "# valence_features = pd.read_csv(\"/Users/alexialozano/.cache/kagglehub/datasets/imsparsh/deam-mediaeval-dataset-emotional-analysis-in-music/versions/1/DEAM_Annotations/annotations/annotations averaged per song/dynamic (per second annotations)/valence.csv\")\n",
    "# arousal_labels = pd.read_csv(\"/Users/alexialozano/.cache/kagglehub/datasets/imsparsh/deam-mediaeval-dataset-emotional-analysis-in-music/versions/1/DEAM_Annotations/annotations/annotations averaged per song/dynamic (per second annotations)/arousal.csv\")\n",
    "labels = pd.read_csv(\"/Users/alexialozano/.cache/kagglehub/datasets/imsparsh/deam-mediaeval-dataset-emotional-analysis-in-music/versions/1/DEAM_Annotations/annotations/annotations averaged per song/song_level/static_annotations_averaged_songs_1_2000.csv\")\n",
    "print(labels.head())"
   ]
  },
  {
   "cell_type": "code",
   "execution_count": 6,
   "metadata": {},
   "outputs": [
    {
     "name": "stdout",
     "output_type": "stream",
     "text": [
      "   F0final_sma_stddev  F0final_sma_amean  voicingFinalUnclipped_sma_stddev  \\\n",
      "0           19.860414          93.884056                          0.027706   \n",
      "\n",
      "   voicingFinalUnclipped_sma_amean  jitterLocal_sma_stddev  \\\n",
      "0                         0.742852                0.117239   \n",
      "\n",
      "   jitterLocal_sma_amean  jitterDDP_sma_stddev  jitterDDP_sma_amean  \\\n",
      "0               0.099609              0.112936             0.095736   \n",
      "\n",
      "   shimmerLocal_sma_stddev  shimmerLocal_sma_amean  ...  \\\n",
      "0                  0.11805                0.180007  ...   \n",
      "\n",
      "   pcm_fftMag_mfcc_sma_de[10]_stddev  pcm_fftMag_mfcc_sma_de[10]_amean  \\\n",
      "0                           2.180024                          0.000537   \n",
      "\n",
      "   pcm_fftMag_mfcc_sma_de[11]_stddev  pcm_fftMag_mfcc_sma_de[11]_amean  \\\n",
      "0                           2.230241                           0.00028   \n",
      "\n",
      "   pcm_fftMag_mfcc_sma_de[12]_stddev  pcm_fftMag_mfcc_sma_de[12]_amean  \\\n",
      "0                           1.982235                          0.000254   \n",
      "\n",
      "   pcm_fftMag_mfcc_sma_de[13]_stddev  pcm_fftMag_mfcc_sma_de[13]_amean  \\\n",
      "0                            1.91853                          0.000173   \n",
      "\n",
      "   pcm_fftMag_mfcc_sma_de[14]_stddev  pcm_fftMag_mfcc_sma_de[14]_amean  \n",
      "0                           1.694786                         -0.000031  \n",
      "\n",
      "[1 rows x 260 columns]\n"
     ]
    }
   ],
   "source": [
    "song_features_path = f\"/Users/alexialozano/.cache/kagglehub/datasets/imsparsh/deam-mediaeval-dataset-emotional-analysis-in-music/versions/1/features/features/2.csv\"\n",
    "song_2_features = pd.read_csv(song_features_path, sep=\";\")\n",
    "features_mean = song_2_features.drop(columns=\"frameTime\").mean()\n",
    "features_mean_df = pd.DataFrame(features_mean).transpose()\n",
    "print(features_mean_df)"
   ]
  },
  {
   "cell_type": "markdown",
   "metadata": {},
   "source": [
    "Arousal (Activación): Indica el nivel de excitación o activación de una emoción. Puede ir desde bajo (relajado, tranquilo) hasta alto (excitado, alerta).\n",
    "Valence (Valencia): Representa si una emoción es positiva (felicidad, alegría) o negativa (tristeza, enojo).\n"
   ]
  },
  {
   "cell_type": "markdown",
   "metadata": {},
   "source": [
    "Este dataset ya tiene las features extraidas, no hace falta que extragiamos de cada canción, existe un csv y un audio para cada canción y luego se puede encontrar cual es su valence or arousal a partir de los etiquetajes ya hechos"
   ]
  },
  {
   "cell_type": "code",
   "execution_count": 8,
   "metadata": {},
   "outputs": [
    {
     "name": "stdout",
     "output_type": "stream",
     "text": [
      "      song_id   valence_mean   valence_std   arousal_mean   arousal_std  \\\n",
      "0           2            3.1          0.94            3.0          0.63   \n",
      "1           3            3.5          1.75            3.3          1.62   \n",
      "2           4            5.7          1.42            5.5          1.63   \n",
      "3           5            4.4          2.01            5.3          1.85   \n",
      "4           7            5.8          1.47            6.4          1.69   \n",
      "...       ...            ...           ...            ...           ...   \n",
      "1738     1995            4.7          1.73            4.7          1.10   \n",
      "1739     1996            3.9          1.87            5.9          2.21   \n",
      "1740     1997            5.3          1.42            3.9          1.14   \n",
      "1741     1998            6.4          1.50            6.2          1.60   \n",
      "1742     1999            4.6          2.11            5.4          1.80   \n",
      "\n",
      "      F0final_sma_stddev  F0final_sma_amean  voicingFinalUnclipped_sma_stddev  \\\n",
      "0              19.860414          93.884056                          0.027706   \n",
      "1              19.860414          93.884056                          0.027706   \n",
      "2              19.860414          93.884056                          0.027706   \n",
      "3              19.860414          93.884056                          0.027706   \n",
      "4              19.860414          93.884056                          0.027706   \n",
      "...                  ...                ...                               ...   \n",
      "1738           19.860414          93.884056                          0.027706   \n",
      "1739           19.860414          93.884056                          0.027706   \n",
      "1740           19.860414          93.884056                          0.027706   \n",
      "1741           19.860414          93.884056                          0.027706   \n",
      "1742           19.860414          93.884056                          0.027706   \n",
      "\n",
      "      voicingFinalUnclipped_sma_amean  jitterLocal_sma_stddev  ...  \\\n",
      "0                            0.742852                0.117239  ...   \n",
      "1                            0.742852                0.117239  ...   \n",
      "2                            0.742852                0.117239  ...   \n",
      "3                            0.742852                0.117239  ...   \n",
      "4                            0.742852                0.117239  ...   \n",
      "...                               ...                     ...  ...   \n",
      "1738                         0.742852                0.117239  ...   \n",
      "1739                         0.742852                0.117239  ...   \n",
      "1740                         0.742852                0.117239  ...   \n",
      "1741                         0.742852                0.117239  ...   \n",
      "1742                         0.742852                0.117239  ...   \n",
      "\n",
      "      pcm_fftMag_mfcc_sma_de[10]_stddev  pcm_fftMag_mfcc_sma_de[10]_amean  \\\n",
      "0                              2.180024                          0.000537   \n",
      "1                              2.180024                          0.000537   \n",
      "2                              2.180024                          0.000537   \n",
      "3                              2.180024                          0.000537   \n",
      "4                              2.180024                          0.000537   \n",
      "...                                 ...                               ...   \n",
      "1738                           2.180024                          0.000537   \n",
      "1739                           2.180024                          0.000537   \n",
      "1740                           2.180024                          0.000537   \n",
      "1741                           2.180024                          0.000537   \n",
      "1742                           2.180024                          0.000537   \n",
      "\n",
      "      pcm_fftMag_mfcc_sma_de[11]_stddev  pcm_fftMag_mfcc_sma_de[11]_amean  \\\n",
      "0                              2.230241                           0.00028   \n",
      "1                              2.230241                           0.00028   \n",
      "2                              2.230241                           0.00028   \n",
      "3                              2.230241                           0.00028   \n",
      "4                              2.230241                           0.00028   \n",
      "...                                 ...                               ...   \n",
      "1738                           2.230241                           0.00028   \n",
      "1739                           2.230241                           0.00028   \n",
      "1740                           2.230241                           0.00028   \n",
      "1741                           2.230241                           0.00028   \n",
      "1742                           2.230241                           0.00028   \n",
      "\n",
      "      pcm_fftMag_mfcc_sma_de[12]_stddev  pcm_fftMag_mfcc_sma_de[12]_amean  \\\n",
      "0                              1.982235                          0.000254   \n",
      "1                              1.982235                          0.000254   \n",
      "2                              1.982235                          0.000254   \n",
      "3                              1.982235                          0.000254   \n",
      "4                              1.982235                          0.000254   \n",
      "...                                 ...                               ...   \n",
      "1738                           1.982235                          0.000254   \n",
      "1739                           1.982235                          0.000254   \n",
      "1740                           1.982235                          0.000254   \n",
      "1741                           1.982235                          0.000254   \n",
      "1742                           1.982235                          0.000254   \n",
      "\n",
      "      pcm_fftMag_mfcc_sma_de[13]_stddev  pcm_fftMag_mfcc_sma_de[13]_amean  \\\n",
      "0                               1.91853                          0.000173   \n",
      "1                               1.91853                          0.000173   \n",
      "2                               1.91853                          0.000173   \n",
      "3                               1.91853                          0.000173   \n",
      "4                               1.91853                          0.000173   \n",
      "...                                 ...                               ...   \n",
      "1738                            1.91853                          0.000173   \n",
      "1739                            1.91853                          0.000173   \n",
      "1740                            1.91853                          0.000173   \n",
      "1741                            1.91853                          0.000173   \n",
      "1742                            1.91853                          0.000173   \n",
      "\n",
      "      pcm_fftMag_mfcc_sma_de[14]_stddev  pcm_fftMag_mfcc_sma_de[14]_amean  \n",
      "0                              1.694786                         -0.000031  \n",
      "1                              1.694786                         -0.000031  \n",
      "2                              1.694786                         -0.000031  \n",
      "3                              1.694786                         -0.000031  \n",
      "4                              1.694786                         -0.000031  \n",
      "...                                 ...                               ...  \n",
      "1738                           1.694786                         -0.000031  \n",
      "1739                           1.694786                         -0.000031  \n",
      "1740                           1.694786                         -0.000031  \n",
      "1741                           1.694786                         -0.000031  \n",
      "1742                           1.694786                         -0.000031  \n",
      "\n",
      "[1743 rows x 265 columns]\n"
     ]
    }
   ],
   "source": [
    "#Para extraer las features voy a hacer una media de cada canción, quizás pierde un poco de infromación porque quizás la media no representa mucho pero vamos a ver si podemos reducir el dataset\n",
    "import os\n",
    "features_list  =[]\n",
    "for i in range(2,2000):\n",
    "    #accedo al csv de las features de cada canción\n",
    "    song_features_path = f\"/Users/alexialozano/.cache/kagglehub/datasets/imsparsh/deam-mediaeval-dataset-emotional-analysis-in-music/versions/1/features/features/{i}.csv\"\n",
    "    if os.path.exists(song_features_path):\n",
    "        song_features = pd.read_csv(song_features_path, sep=\";\")\n",
    "        features_mean = song_2_features.drop(columns=\"frameTime\").mean()\n",
    "        features_mean[\"song_id\"] = i\n",
    "        features_list.append(features_mean)\n",
    "features_df = pd.DataFrame(features_list)\n",
    "final_data_frame = pd.merge(labels, features_df,on=\"song_id\")\n",
    "print(final_data_frame)\n",
    "    \n"
   ]
  },
  {
   "cell_type": "code",
   "execution_count": null,
   "metadata": {},
   "outputs": [
    {
     "name": "stdout",
     "output_type": "stream",
     "text": [
      "[[0, 0], [1, 1]]\n"
     ]
    }
   ],
   "source": [
    "from sklearn.ensemble import RandomForestClassifier\n",
    "from sklearn.model_selection import train_test_split\n",
    "from sklearn.metrics import accuracy_score\n",
    "import numpy as np\n",
    "\n"
   ]
  },
  {
   "cell_type": "markdown",
   "metadata": {},
   "source": [
    "las X son el dataset de features y las y son la etiqueta clasificatoria que tiene cada cancion"
   ]
  },
  {
   "cell_type": "markdown",
   "metadata": {},
   "source": []
  }
 ],
 "metadata": {
  "kernelspec": {
   "display_name": "venv",
   "language": "python",
   "name": "python3"
  },
  "language_info": {
   "codemirror_mode": {
    "name": "ipython",
    "version": 3
   },
   "file_extension": ".py",
   "mimetype": "text/x-python",
   "name": "python",
   "nbconvert_exporter": "python",
   "pygments_lexer": "ipython3",
   "version": "3.7.6"
  }
 },
 "nbformat": 4,
 "nbformat_minor": 2
}
